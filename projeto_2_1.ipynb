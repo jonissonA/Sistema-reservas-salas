{
  "nbformat": 4,
  "nbformat_minor": 0,
  "metadata": {
    "colab": {
      "provenance": [],
      "include_colab_link": true
    },
    "kernelspec": {
      "name": "python3",
      "display_name": "Python 3"
    },
    "language_info": {
      "name": "python"
    }
  },
  "cells": [
    {
      "cell_type": "markdown",
      "metadata": {
        "id": "view-in-github",
        "colab_type": "text"
      },
      "source": [
        "<a href=\"https://colab.research.google.com/github/jonissonA/Sistema-reservas-salas/blob/main/projeto_2_1.ipynb\" target=\"_parent\"><img src=\"https://colab.research.google.com/assets/colab-badge.svg\" alt=\"Open In Colab\"/></a>"
      ]
    },
    {
      "cell_type": "code",
      "source": [
        "#disponibilidade/ FEITO\n",
        "#registrar reserva/ FEITO\n",
        "#visualizar reserva/ FEITO\n",
        "#cancelar reserva\n",
        "#sair do sistema\n",
        "#-------------------\n",
        "#aqui comeca o menu:\n",
        "def exibir_menu():\n",
        "    print(\"Bem-vindo ao Sistema de Reservas de Salas\")\n",
        "    print(\"Escolha uma opção:\")\n",
        "    print(\"(R) Registrar Reserva\")\n",
        "    print(\"(C) Cancelar Reserva\")\n",
        "    print(\"(V) Visualizar Reserva\")\n",
        "    print(\"(D) Disponibilidade\")\n",
        "    print(\"(Q) Sair do Sistema\")\n",
        "\n",
        "def main():\n",
        "    while True:\n",
        "        exibir_menu()\n",
        "        opcao = input(\"Digite a opção desejada: \").upper()\n",
        "\n",
        "        if opcao == 'R':\n",
        "            registrar_reserva()\n",
        "        elif opcao == 'C':\n",
        "            cancelar_reserva()\n",
        "        elif opcao == 'V':\n",
        "            visualizar_reserva()\n",
        "        elif opcao == 'D':\n",
        "            verificar_disponibilidade()\n",
        "        elif opcao == 'Q':\n",
        "            print(\"Saindo do Sistema. Até mais!\")\n",
        "            break\n",
        "        else:\n",
        "            print(\"Opção inválida. Por favor, escolha novamente.\")\n"
      ],
      "metadata": {
        "id": "kuKLx4wzAMLW"
      },
      "execution_count": null,
      "outputs": []
    },
    {
      "cell_type": "markdown",
      "source": [
        "## Disponibilidade"
      ],
      "metadata": {
        "id": "d8Z0Ot98AxHE"
      }
    },
    {
      "cell_type": "code",
      "source": [
        "reserva = ['Sala01','Sala02','Sala03','Sala04','Sala05',]\n",
        "print('Olá bem-vindo ao nosso site de reservas! A seguir mostraremos nossas salas.')\n",
        "for i in reserva:\n",
        "  print(i)"
      ],
      "metadata": {
        "id": "oHl6gM1hA2tf"
      },
      "execution_count": null,
      "outputs": []
    },
    {
      "cell_type": "markdown",
      "source": [
        "## Registrar reservas"
      ],
      "metadata": {
        "id": "Flckd2RuCCtp"
      }
    },
    {
      "cell_type": "code",
      "source": [
        "def registra_reserva():\n",
        "  continuar = True\n",
        "\n",
        "  while continuar:\n",
        "    cliente = input('Você tem desejo de fazer alguma reserva? Sim ou Não:').capitalize()\n",
        "\n",
        "    if cliente == 'Sim':\n",
        "      print('Ok nos informe qual sala você deseja.')\n",
        "      sala_reservada = input('Sala: ')\n",
        "\n",
        "      if sala_reservada in reserva:\n",
        "       reserva.remove(sala_reservada)\n",
        "       print('Reserva realizada com suscesso!')\n",
        "      else:\n",
        "        print('Sala indisponivel ou invalida.')\n",
        "        print('Agora temos as seguintes salas disponiveis:')\n",
        "        for sala in reserva:\n",
        "          print(sala)\n",
        "    elif cliente == 'Não':\n",
        "     print('Ok obrigado por acessar nosso site, volte sempre!')\n",
        "     continuar = False\n",
        "    else:\n",
        "      print('Você tem que digitar Sim ou Não, se atente as letras maiusculas e pontuação.')\n",
        "\n",
        "registra_reserva()\n",
        "\n",
        "\n"
      ],
      "metadata": {
        "id": "5AJZ4Nn3CI2b",
        "colab": {
          "base_uri": "https://localhost:8080/"
        },
        "outputId": "1a3e9ade-0280-4416-e129-ae1799b8a5b7"
      },
      "execution_count": null,
      "outputs": [
        {
          "output_type": "stream",
          "name": "stdout",
          "text": [
            "Você tem desejo de fazer alguma reserva? Sim ou Não:Sim\n",
            "Ok nos informe qual sala você deseja.\n",
            "Sala: Sala01\n",
            "Reserva realizada com suscesso!\n",
            "Você tem desejo de fazer alguma reserva? Sim ou Não:Não\n",
            "Ok obrigado por acessar nosso site, volte sempre!\n"
          ]
        }
      ]
    },
    {
      "cell_type": "markdown",
      "source": [
        "## Visualizar Reserva\n"
      ],
      "metadata": {
        "id": "xK0GKfTJOgIp"
      }
    },
    {
      "cell_type": "code",
      "source": [
        "def visualizar_reserva():\n",
        "  check = input('Você deseja visualizar sua rserva feita? Sim ou Não:').capitalize()\n",
        "  if check == 'Sim':\n",
        "    reserva = sala_reservada\n",
        "    print('Sua reserva é na', reserva )\n",
        "  elif check == 'Não':\n",
        "    print('Tudo bem obrigado por sua reserva!')\n",
        "\n",
        "\n",
        "\n",
        "visualizar_reserva()"
      ],
      "metadata": {
        "id": "KYpiBxC1OnkN",
        "colab": {
          "base_uri": "https://localhost:8080/"
        },
        "outputId": "a9ed0914-06bf-4719-c746-7b204afd9149"
      },
      "execution_count": null,
      "outputs": [
        {
          "output_type": "stream",
          "name": "stdout",
          "text": [
            "Você deseja visualizar sua rserva feita? Sim ou Não:Sim\n",
            "Sua reserva é na Sala01\n"
          ]
        }
      ]
    },
    {
      "cell_type": "markdown",
      "source": [
        "## Cancelar reserva"
      ],
      "metadata": {
        "id": "6aUX2KDScq8C"
      }
    }
  ]
}